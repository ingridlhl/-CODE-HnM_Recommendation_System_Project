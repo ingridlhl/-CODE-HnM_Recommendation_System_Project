{
 "cells": [
  {
   "cell_type": "markdown",
   "metadata": {
    "_cell_guid": "43f2d06d-cab6-4e77-862d-1f0b763901ef",
    "_uuid": "34b2abb5-9a38-4f2f-bd49-af2e2f164f86"
   },
   "source": [
    "# **Download Data**"
   ]
  },
  {
   "cell_type": "code",
   "execution_count": 1,
   "metadata": {
    "execution": {
     "iopub.execute_input": "2022-03-24T12:55:24.495962Z",
     "iopub.status.busy": "2022-03-24T12:55:24.495581Z",
     "iopub.status.idle": "2022-03-24T12:55:24.523758Z",
     "shell.execute_reply": "2022-03-24T12:55:24.523124Z",
     "shell.execute_reply.started": "2022-03-24T12:55:24.495878Z"
    }
   },
   "outputs": [],
   "source": [
    "import pandas as pd\n",
    "import os\n",
    "\n",
    "fname_tran ='../input/h-and-m-personalized-fashion-recommendations/transactions_train.csv'\n",
    "fname_cus ='../input/h-and-m-personalized-fashion-recommendations/customers.csv'\n",
    "fname_article ='../input/h-and-m-personalized-fashion-recommendations/articles.csv'"
   ]
  },
  {
   "cell_type": "code",
   "execution_count": 2,
   "metadata": {
    "_cell_guid": "24114668-4a92-4e8e-9b1b-3085ee2e72a2",
    "_uuid": "57010869-e732-4675-a70d-fc08a26e5a78",
    "execution": {
     "iopub.execute_input": "2022-03-23T08:37:01.875765Z",
     "iopub.status.busy": "2022-03-23T08:37:01.875517Z",
     "iopub.status.idle": "2022-03-23T08:38:04.360550Z",
     "shell.execute_reply": "2022-03-23T08:38:04.359864Z",
     "shell.execute_reply.started": "2022-03-23T08:37:01.875738Z"
    },
    "jupyter": {
     "outputs_hidden": false
    }
   },
   "outputs": [],
   "source": [
    "data = pd.read_csv(fname_tran, sep=',')\n",
    "data"
   ]
  },
  {
   "cell_type": "markdown",
   "metadata": {
    "_cell_guid": "6a8a4dc5-ad40-42d8-adff-938d8e93214c",
    "_uuid": "9f8b859e-e8c8-45cf-b375-d3820bb43785"
   },
   "source": [
    "# **Data Preprocessing**"
   ]
  },
  {
   "cell_type": "code",
   "execution_count": 5,
   "metadata": {
    "execution": {
     "iopub.execute_input": "2022-03-23T08:38:31.042712Z",
     "iopub.status.busy": "2022-03-23T08:38:31.042119Z",
     "iopub.status.idle": "2022-03-23T08:38:32.662379Z",
     "shell.execute_reply": "2022-03-23T08:38:32.661538Z",
     "shell.execute_reply.started": "2022-03-23T08:38:31.042675Z"
    }
   },
   "outputs": [],
   "source": [
    "data.duplicated().sum() #remove duplicated rows"
   ]
  },
  {
   "cell_type": "code",
   "execution_count": 6,
   "metadata": {
    "execution": {
     "iopub.execute_input": "2022-03-23T08:38:32.664545Z",
     "iopub.status.busy": "2022-03-23T08:38:32.664277Z",
     "iopub.status.idle": "2022-03-23T08:38:34.634686Z",
     "shell.execute_reply": "2022-03-23T08:38:34.633971Z",
     "shell.execute_reply.started": "2022-03-23T08:38:32.664509Z"
    }
   },
   "outputs": [],
   "source": [
    "data = data.drop_duplicates()\n",
    "data"
   ]
  },
  {
   "cell_type": "code",
   "execution_count": 4,
   "metadata": {
    "execution": {
     "iopub.execute_input": "2022-03-23T08:38:28.841795Z",
     "iopub.status.busy": "2022-03-23T08:38:28.841502Z",
     "iopub.status.idle": "2022-03-23T08:38:29.459887Z",
     "shell.execute_reply": "2022-03-23T08:38:29.459086Z",
     "shell.execute_reply.started": "2022-03-23T08:38:28.841758Z"
    }
   },
   "outputs": [],
   "source": [
    "data = data[(data['t_dat'] > \"2020-06-22\")] #filter latest 3 months data only for model building"
   ]
  },
  {
   "cell_type": "code",
   "execution_count": 7,
   "metadata": {
    "_cell_guid": "9bed9aba-9695-420f-ba4c-89b195218aa5",
    "_uuid": "fca9ec6b-98a4-45a5-af42-729ae25fbf42",
    "execution": {
     "iopub.execute_input": "2022-03-23T08:38:38.992304Z",
     "iopub.status.busy": "2022-03-23T08:38:38.991681Z",
     "iopub.status.idle": "2022-03-23T08:38:39.050284Z",
     "shell.execute_reply": "2022-03-23T08:38:39.049464Z",
     "shell.execute_reply.started": "2022-03-23T08:38:38.992259Z"
    },
    "jupyter": {
     "outputs_hidden": false
    }
   },
   "outputs": [],
   "source": [
    "using_cols = ['customer_id', 'article_id', 'price']\n",
    "data = data[using_cols]\n",
    "data.head(10)"
   ]
  },
  {
   "cell_type": "code",
   "execution_count": 8,
   "metadata": {
    "_cell_guid": "6f48dbb6-ae1a-44be-86b1-e2a515518cdf",
    "_uuid": "10132724-12d7-49fc-917d-7067d4312445",
    "execution": {
     "iopub.execute_input": "2022-03-23T08:38:45.006347Z",
     "iopub.status.busy": "2022-03-23T08:38:45.005906Z",
     "iopub.status.idle": "2022-03-23T08:38:45.017346Z",
     "shell.execute_reply": "2022-03-23T08:38:45.016418Z",
     "shell.execute_reply.started": "2022-03-23T08:38:45.006306Z"
    },
    "jupyter": {
     "outputs_hidden": false
    }
   },
   "outputs": [],
   "source": [
    "# same customer buy same items -> increase count value \n",
    "data.loc[:,'count'] = 1"
   ]
  },
  {
   "cell_type": "code",
   "execution_count": 9,
   "metadata": {
    "_cell_guid": "9d1f3c8a-f4cf-44d9-8898-667cae509645",
    "_uuid": "b15aa5ca-5379-4cd9-b5c3-836635828fea",
    "execution": {
     "iopub.execute_input": "2022-03-23T08:38:47.034895Z",
     "iopub.status.busy": "2022-03-23T08:38:47.034309Z",
     "iopub.status.idle": "2022-03-23T08:38:51.027361Z",
     "shell.execute_reply": "2022-03-23T08:38:51.026587Z",
     "shell.execute_reply.started": "2022-03-23T08:38:47.034854Z"
    },
    "jupyter": {
     "outputs_hidden": false
    }
   },
   "outputs": [],
   "source": [
    "data = data.groupby(['customer_id','article_id'], as_index=False).sum()"
   ]
  },
  {
   "cell_type": "code",
   "execution_count": 10,
   "metadata": {
    "_cell_guid": "9567d9b0-7062-4eef-99f9-85215b9cca97",
    "_uuid": "c8360909-b147-43bb-b6cb-1b149c788e43",
    "execution": {
     "iopub.execute_input": "2022-03-23T08:38:51.031004Z",
     "iopub.status.busy": "2022-03-23T08:38:51.030803Z",
     "iopub.status.idle": "2022-03-23T08:38:51.047572Z",
     "shell.execute_reply": "2022-03-23T08:38:51.046898Z",
     "shell.execute_reply.started": "2022-03-23T08:38:51.030979Z"
    },
    "jupyter": {
     "outputs_hidden": false
    }
   },
   "outputs": [],
   "source": [
    "data"
   ]
  },
  {
   "cell_type": "code",
   "execution_count": 13,
   "metadata": {
    "_cell_guid": "2b7caff6-6ae1-4a97-b437-1e8261c40db5",
    "_uuid": "a5a5fd35-161f-46c1-a206-226076740444",
    "execution": {
     "iopub.execute_input": "2022-03-23T08:39:00.468670Z",
     "iopub.status.busy": "2022-03-23T08:39:00.468126Z",
     "iopub.status.idle": "2022-03-23T08:39:01.120909Z",
     "shell.execute_reply": "2022-03-23T08:39:01.120166Z",
     "shell.execute_reply.started": "2022-03-23T08:39:00.468634Z"
    },
    "jupyter": {
     "outputs_hidden": false
    }
   },
   "outputs": [],
   "source": [
    "user_unique = data['customer_id'].unique() #assign user & article id with a unique numerical value\n",
    "article_unique = data['article_id'].unique()"
   ]
  },
  {
   "cell_type": "code",
   "execution_count": 14,
   "metadata": {
    "_cell_guid": "71f59825-ae69-41a0-8bdb-568f01bae873",
    "_uuid": "5ab4f55d-c5ff-4df4-bf94-ad7be218980c",
    "execution": {
     "iopub.execute_input": "2022-03-23T08:39:02.744489Z",
     "iopub.status.busy": "2022-03-23T08:39:02.743917Z",
     "iopub.status.idle": "2022-03-23T08:39:02.749857Z",
     "shell.execute_reply": "2022-03-23T08:39:02.749098Z",
     "shell.execute_reply.started": "2022-03-23T08:39:02.744447Z"
    },
    "jupyter": {
     "outputs_hidden": false
    }
   },
   "outputs": [],
   "source": [
    "user_unique"
   ]
  },
  {
   "cell_type": "code",
   "execution_count": 15,
   "metadata": {
    "_cell_guid": "5e93a745-0370-4755-ae3e-3da38b7b2a29",
    "_uuid": "7e57532d-5edb-4b2f-88df-be1f1dad5fb0",
    "execution": {
     "iopub.execute_input": "2022-03-23T08:39:04.294871Z",
     "iopub.status.busy": "2022-03-23T08:39:04.294159Z",
     "iopub.status.idle": "2022-03-23T08:39:04.482937Z",
     "shell.execute_reply": "2022-03-23T08:39:04.482193Z",
     "shell.execute_reply.started": "2022-03-23T08:39:04.294822Z"
    },
    "jupyter": {
     "outputs_hidden": false
    }
   },
   "outputs": [],
   "source": [
    "user_to_idx = {v:k for k,v in enumerate(user_unique)}\n",
    "article_to_idx = {v:k for k,v in enumerate(article_unique)}"
   ]
  },
  {
   "cell_type": "code",
   "execution_count": 17,
   "metadata": {
    "_cell_guid": "49e4466a-526f-4713-82d0-271aa2341201",
    "_uuid": "0e8c7ff3-5188-47da-8e86-356aa6684702",
    "execution": {
     "iopub.execute_input": "2022-03-23T08:39:17.667760Z",
     "iopub.status.busy": "2022-03-23T08:39:17.667244Z",
     "iopub.status.idle": "2022-03-23T08:39:19.200800Z",
     "shell.execute_reply": "2022-03-23T08:39:19.200094Z",
     "shell.execute_reply.started": "2022-03-23T08:39:17.667720Z"
    },
    "jupyter": {
     "outputs_hidden": false
    }
   },
   "outputs": [],
   "source": [
    "temp_user_data = data['customer_id'].map(user_to_idx.get).dropna() #map the ids to original dataframe\n",
    "\n",
    "if len(temp_user_data) == len(data):  \n",
    "    print('no-null')\n",
    "    data['customer_id'] = temp_user_data   \n",
    "else:\n",
    "    print('detect null')\n",
    "\n",
    "temp_artist_data = data['article_id'].map(article_to_idx.get).dropna()\n",
    "if len(temp_artist_data) == len(data):\n",
    "    print('no-null')\n",
    "    data['article_id'] = temp_artist_data\n",
    "else:\n",
    "    print('detect null')\n",
    "\n",
    "data"
   ]
  },
  {
   "cell_type": "code",
   "execution_count": 18,
   "metadata": {
    "execution": {
     "iopub.execute_input": "2022-03-23T08:39:21.439245Z",
     "iopub.status.busy": "2022-03-23T08:39:21.438632Z",
     "iopub.status.idle": "2022-03-23T08:39:21.464278Z",
     "shell.execute_reply": "2022-03-23T08:39:21.461157Z",
     "shell.execute_reply.started": "2022-03-23T08:39:21.439203Z"
    }
   },
   "outputs": [],
   "source": [
    "data['count'].value_counts()"
   ]
  },
  {
   "cell_type": "markdown",
   "metadata": {},
   "source": [
    "# Model Building"
   ]
  },
  {
   "cell_type": "code",
   "execution_count": 19,
   "metadata": {
    "_cell_guid": "564d30cf-3938-4b8a-841a-05398fe8810d",
    "_uuid": "2b9946d0-e77f-4d6a-bf11-fc898d587767",
    "execution": {
     "iopub.execute_input": "2022-03-23T08:39:23.911170Z",
     "iopub.status.busy": "2022-03-23T08:39:23.910624Z",
     "iopub.status.idle": "2022-03-23T08:39:24.189996Z",
     "shell.execute_reply": "2022-03-23T08:39:24.189173Z",
     "shell.execute_reply.started": "2022-03-23T08:39:23.911128Z"
    },
    "jupyter": {
     "outputs_hidden": false
    }
   },
   "outputs": [],
   "source": [
    "from scipy.sparse import csr_matrix\n",
    "\n",
    "num_user = data['customer_id'].nunique()\n",
    "num_artist = data['article_id'].nunique()\n",
    "\n",
    "csr_data = csr_matrix((data['count'], (data.customer_id, data.article_id)), shape= (num_user, num_artist))\n",
    "csr_data"
   ]
  },
  {
   "cell_type": "code",
   "execution_count": 20,
   "metadata": {
    "execution": {
     "iopub.execute_input": "2022-03-23T08:39:26.593705Z",
     "iopub.status.busy": "2022-03-23T08:39:26.593012Z",
     "iopub.status.idle": "2022-03-23T08:39:26.821859Z",
     "shell.execute_reply": "2022-03-23T08:39:26.821098Z",
     "shell.execute_reply.started": "2022-03-23T08:39:26.593667Z"
    }
   },
   "outputs": [],
   "source": [
    "from implicit.als import AlternatingLeastSquares\n",
    "import os\n",
    "import numpy as np"
   ]
  },
  {
   "cell_type": "code",
   "execution_count": 23,
   "metadata": {
    "_cell_guid": "0a85e591-23de-46c5-a722-b9beaf9932d9",
    "_uuid": "36d4e0b2-5b84-42c5-a3a7-a8a389c9a7d8",
    "execution": {
     "iopub.execute_input": "2022-03-23T08:39:35.920837Z",
     "iopub.status.busy": "2022-03-23T08:39:35.920293Z",
     "iopub.status.idle": "2022-03-23T08:39:35.926299Z",
     "shell.execute_reply": "2022-03-23T08:39:35.925394Z",
     "shell.execute_reply.started": "2022-03-23T08:39:35.920797Z"
    },
    "jupyter": {
     "outputs_hidden": false
    }
   },
   "outputs": [],
   "source": [
    "# os.environ['OPENBLAS_NUM_THREADS']='1'\n",
    "# os.environ['KMP_DUPLICATE_LIB_OK']='True'\n",
    "# os.environ['MKL_NUM_THREADS']='1'\n",
    "#article has 12 feature, customer estimatley has 6 and transaction data has 5\n",
    "als_model = AlternatingLeastSquares(factors=360, regularization=0.01, use_gpu=True, iterations=5, dtype=np.float32, calculate_training_loss=True)"
   ]
  },
  {
   "cell_type": "code",
   "execution_count": 24,
   "metadata": {
    "_cell_guid": "2f95a170-b2e3-4abd-afde-abe7ac482291",
    "_uuid": "97f08485-6fde-4105-9748-ecfeb06b5fac",
    "execution": {
     "iopub.execute_input": "2022-03-23T08:39:38.031771Z",
     "iopub.status.busy": "2022-03-23T08:39:38.030956Z",
     "iopub.status.idle": "2022-03-23T08:39:38.038815Z",
     "shell.execute_reply": "2022-03-23T08:39:38.038038Z",
     "shell.execute_reply.started": "2022-03-23T08:39:38.031736Z"
    },
    "jupyter": {
     "outputs_hidden": false
    }
   },
   "outputs": [],
   "source": [
    "csr_data_transpose = csr_data.T\n",
    "csr_data_transpose"
   ]
  },
  {
   "cell_type": "code",
   "execution_count": 25,
   "metadata": {
    "_cell_guid": "1d2e4831-0dc3-41db-9d0f-dee2c7d12f9b",
    "_uuid": "25330bee-2a00-420c-bf79-672e4e33a0be",
    "execution": {
     "iopub.execute_input": "2022-03-23T08:39:40.278808Z",
     "iopub.status.busy": "2022-03-23T08:39:40.278544Z",
     "iopub.status.idle": "2022-03-23T08:39:51.607673Z",
     "shell.execute_reply": "2022-03-23T08:39:51.606919Z",
     "shell.execute_reply.started": "2022-03-23T08:39:40.278777Z"
    },
    "jupyter": {
     "outputs_hidden": false
    }
   },
   "outputs": [],
   "source": [
    "history = als_model.fit(csr_data_transpose)"
   ]
  },
  {
   "cell_type": "code",
   "execution_count": 31,
   "metadata": {
    "_cell_guid": "27d9fa4b-bc68-4d7c-919d-33f2e77ebcf9",
    "_uuid": "b19ff3e5-6e17-4ec1-9e7c-f80da1f58045",
    "execution": {
     "iopub.execute_input": "2022-03-23T08:40:07.741520Z",
     "iopub.status.busy": "2022-03-23T08:40:07.741261Z",
     "iopub.status.idle": "2022-03-23T08:40:07.756266Z",
     "shell.execute_reply": "2022-03-23T08:40:07.755501Z",
     "shell.execute_reply.started": "2022-03-23T08:40:07.741490Z"
    },
    "jupyter": {
     "outputs_hidden": false
    }
   },
   "outputs": [],
   "source": [
    "#check model with an testing user id\n",
    "user = user_to_idx['00000dbacae5abe5e23885899a1fa44253a17956c6d1c3d25f88aa139fdfc657']\n",
    "article_recommended = als_model.recommend(user, csr_data, N=12, filter_already_liked_items=True)\n",
    "article_recommended"
   ]
  },
  {
   "cell_type": "code",
   "execution_count": 32,
   "metadata": {
    "_cell_guid": "2a11ce42-4a0e-4957-a061-f53b2779dd5c",
    "_uuid": "a00fc248-a93f-4350-94c3-70ab3b7b3149",
    "execution": {
     "iopub.execute_input": "2022-03-23T08:40:09.567963Z",
     "iopub.status.busy": "2022-03-23T08:40:09.567708Z",
     "iopub.status.idle": "2022-03-23T08:40:09.573862Z",
     "shell.execute_reply": "2022-03-23T08:40:09.573009Z",
     "shell.execute_reply.started": "2022-03-23T08:40:09.567934Z"
    },
    "jupyter": {
     "outputs_hidden": false
    }
   },
   "outputs": [],
   "source": [
    "k = [str(idx_to_article[i[0]]) for i in article_recommended]\n",
    "print(' '.join(k))"
   ]
  },
  {
   "cell_type": "code",
   "execution_count": 33,
   "metadata": {
    "_cell_guid": "ac4c10f5-46f9-4a63-a0f2-d300e53d524d",
    "_uuid": "eb44952b-96c6-4dad-b5e3-1d5a518d7b3c",
    "execution": {
     "iopub.execute_input": "2022-03-23T08:40:11.160781Z",
     "iopub.status.busy": "2022-03-23T08:40:11.160398Z",
     "iopub.status.idle": "2022-03-23T08:40:11.182167Z",
     "shell.execute_reply": "2022-03-23T08:40:11.181529Z",
     "shell.execute_reply.started": "2022-03-23T08:40:11.160746Z"
    },
    "jupyter": {
     "outputs_hidden": false
    }
   },
   "outputs": [],
   "source": [
    "from IPython.display import Image\n",
    "num = 1\n",
    "Image(f'../input/h-and-m-personalized-fashion-recommendations/images/0{str(k[num])[:2]}/0{int(k[num])}.jpg' , width = 200)"
   ]
  },
  {
   "cell_type": "markdown",
   "metadata": {
    "_cell_guid": "706cae9c-ea33-41be-a2c3-e24149c14555",
    "_uuid": "a838615d-ca28-4579-8ebc-b2ca8b5ddfa9"
   },
   "source": [
    "# **Output result to csv**"
   ]
  },
  {
   "cell_type": "code",
   "execution_count": 34,
   "metadata": {
    "execution": {
     "iopub.execute_input": "2022-03-23T08:40:15.216414Z",
     "iopub.status.busy": "2022-03-23T08:40:15.216162Z",
     "iopub.status.idle": "2022-03-23T08:40:48.649275Z",
     "shell.execute_reply": "2022-03-23T08:40:48.648507Z",
     "shell.execute_reply.started": "2022-03-23T08:40:15.216387Z"
    }
   },
   "outputs": [],
   "source": [
    "data_R = pd.read_csv(fname_tran, sep=',')"
   ]
  },
  {
   "cell_type": "code",
   "execution_count": 36,
   "metadata": {
    "_cell_guid": "cf203c29-ec23-4183-b820-1911c05159b6",
    "_uuid": "6f4521c1-c823-47e0-b33e-5a932139b380",
    "execution": {
     "iopub.execute_input": "2022-03-23T08:41:01.816646Z",
     "iopub.status.busy": "2022-03-23T08:41:01.816373Z",
     "iopub.status.idle": "2022-03-23T08:41:04.068495Z",
     "shell.execute_reply": "2022-03-23T08:41:04.067716Z",
     "shell.execute_reply.started": "2022-03-23T08:41:01.816616Z"
    },
    "jupyter": {
     "outputs_hidden": false
    }
   },
   "outputs": [],
   "source": [
    "submission=pd.read_csv('../input/h-and-m-personalized-fashion-recommendations/sample_submission.csv')"
   ]
  },
  {
   "cell_type": "code",
   "execution_count": 37,
   "metadata": {
    "_cell_guid": "46104e6c-8a4e-4aec-8efd-d17feeedaa69",
    "_uuid": "d291d913-80fd-4745-862e-b70a8f4ca48e",
    "execution": {
     "iopub.execute_input": "2022-03-23T08:41:04.308613Z",
     "iopub.status.busy": "2022-03-23T08:41:04.308186Z",
     "iopub.status.idle": "2022-03-23T08:41:04.317625Z",
     "shell.execute_reply": "2022-03-23T08:41:04.316781Z",
     "shell.execute_reply.started": "2022-03-23T08:41:04.308578Z"
    },
    "jupyter": {
     "outputs_hidden": false
    }
   },
   "outputs": [],
   "source": [
    "data_R['customer_id']"
   ]
  },
  {
   "cell_type": "code",
   "execution_count": 38,
   "metadata": {
    "_cell_guid": "158299f7-ab1a-4007-954d-ea4a6323fa54",
    "_uuid": "fa41b684-c375-4210-85e8-eb6f104a6d51",
    "execution": {
     "iopub.execute_input": "2022-03-23T08:41:06.703426Z",
     "iopub.status.busy": "2022-03-23T08:41:06.703170Z",
     "iopub.status.idle": "2022-03-23T08:41:07.437200Z",
     "shell.execute_reply": "2022-03-23T08:41:07.436433Z",
     "shell.execute_reply.started": "2022-03-23T08:41:06.703398Z"
    },
    "jupyter": {
     "outputs_hidden": false
    }
   },
   "outputs": [],
   "source": [
    "users_sub = submission.drop_duplicates(['customer_id'], keep = 'first', ignore_index = True)"
   ]
  },
  {
   "cell_type": "code",
   "execution_count": 40,
   "metadata": {
    "_cell_guid": "88a1b5f0-a46a-47b2-9b81-3fc0da408c34",
    "_uuid": "ba80232c-1b2b-48c5-b43d-81cd976da9ee",
    "execution": {
     "iopub.execute_input": "2022-03-23T08:41:22.553626Z",
     "iopub.status.busy": "2022-03-23T08:41:22.553375Z",
     "iopub.status.idle": "2022-03-23T08:41:22.564118Z",
     "shell.execute_reply": "2022-03-23T08:41:22.563429Z",
     "shell.execute_reply.started": "2022-03-23T08:41:22.553597Z"
    },
    "jupyter": {
     "outputs_hidden": false
    }
   },
   "outputs": [],
   "source": [
    "users_sub"
   ]
  },
  {
   "cell_type": "code",
   "execution_count": 41,
   "metadata": {
    "_cell_guid": "d74275ac-0b6e-4375-9ea8-a57d3bc8b90a",
    "_uuid": "ed3976b0-7314-46cd-8bb9-2fff059c3c06",
    "execution": {
     "iopub.execute_input": "2022-03-23T08:41:26.329574Z",
     "iopub.status.busy": "2022-03-23T08:41:26.328947Z",
     "iopub.status.idle": "2022-03-23T08:41:26.334658Z",
     "shell.execute_reply": "2022-03-23T08:41:26.333858Z",
     "shell.execute_reply.started": "2022-03-23T08:41:26.329532Z"
    },
    "jupyter": {
     "outputs_hidden": false
    }
   },
   "outputs": [],
   "source": [
    "if users_sub['customer_id'].head(1).to_numpy()[0] in user_to_idx:\n",
    "    print(\"contain\")"
   ]
  },
  {
   "cell_type": "code",
   "execution_count": 43,
   "metadata": {
    "_cell_guid": "f7defb6e-98e5-4eeb-912d-f5a99339e101",
    "_uuid": "4c88aef0-702e-43e8-8add-d38844f363e7",
    "execution": {
     "iopub.execute_input": "2022-03-23T08:41:31.749262Z",
     "iopub.status.busy": "2022-03-23T08:41:31.748990Z",
     "iopub.status.idle": "2022-03-23T08:41:31.754115Z",
     "shell.execute_reply": "2022-03-23T08:41:31.753049Z",
     "shell.execute_reply.started": "2022-03-23T08:41:31.749232Z"
    },
    "jupyter": {
     "outputs_hidden": false
    }
   },
   "outputs": [],
   "source": [
    "users_a = users_sub['customer_id']"
   ]
  },
  {
   "cell_type": "code",
   "execution_count": 44,
   "metadata": {
    "_cell_guid": "79246972-e516-4411-acf4-9b45b310fb8a",
    "_uuid": "24a6936c-31aa-401c-a9e4-ea22c031bf74",
    "execution": {
     "iopub.execute_input": "2022-03-23T08:41:34.794085Z",
     "iopub.status.busy": "2022-03-23T08:41:34.793230Z",
     "iopub.status.idle": "2022-03-23T08:41:38.801751Z",
     "shell.execute_reply": "2022-03-23T08:41:38.801050Z",
     "shell.execute_reply.started": "2022-03-23T08:41:34.794022Z"
    },
    "jupyter": {
     "outputs_hidden": false
    }
   },
   "outputs": [],
   "source": [
    "import time #Takes around 2 hours to download full results\n",
    "\n",
    "def run():\n",
    "    result_list = []\n",
    "    num = 0\n",
    "    time_count = 0\n",
    "\n",
    "    for user in users_a:\n",
    "        start = time.time()\n",
    "\n",
    "        if user not in user_to_idx:\n",
    "            user_id = 0\n",
    "        else:\n",
    "            user_id = user_to_idx[user]\n",
    "\n",
    "        article_recommended = als_model.recommend(user_id, csr_data, N=12, filter_already_liked_items=False)\n",
    "        \n",
    "        lists = ['0'+str(idx_to_article[i[0]]) for i in article_recommended]\n",
    "        recommand_list = ' '.join(lists)\n",
    "        \n",
    "        result_list.append(recommand_list)\n",
    "        end = time.time()\n",
    "        time_count = time_count + (end - start)\n",
    "\n",
    "        if num%1000 == 0 :\n",
    "            print ('.' , end = ' ')\n",
    "        if num%10000 == 0:\n",
    "            time_left = ((len(users_a)-num) / 10000) * time_count / 60\n",
    "            print(f\"{time_count:.5f} sec / TIME_LEFT(min): \",time_left)\n",
    "            time_count = 0\n",
    "        num = num +1\n",
    "    return result_list"
   ]
  },
  {
   "cell_type": "code",
   "execution_count": 45,
   "metadata": {
    "_cell_guid": "4c4defca-8a81-4f1d-979a-ed39dc4e81f2",
    "_uuid": "4c1d3ee5-51e8-4b32-ad95-175225c669f6",
    "execution": {
     "iopub.execute_input": "2022-03-23T08:41:50.733116Z",
     "iopub.status.busy": "2022-03-23T08:41:50.732835Z",
     "iopub.status.idle": "2022-03-23T10:31:28.718583Z",
     "shell.execute_reply": "2022-03-23T10:31:28.717732Z",
     "shell.execute_reply.started": "2022-03-23T08:41:50.733077Z"
    },
    "jupyter": {
     "outputs_hidden": false
    }
   },
   "outputs": [],
   "source": [
    "result_lists = run()"
   ]
  },
  {
   "cell_type": "code",
   "execution_count": 46,
   "metadata": {
    "_cell_guid": "1790c5b4-a242-4632-99ad-f37e9bc7424d",
    "_uuid": "93e7b0b2-4af9-41b0-931b-2fc5b6fe26e5",
    "execution": {
     "iopub.execute_input": "2022-03-23T10:41:35.856011Z",
     "iopub.status.busy": "2022-03-23T10:41:35.855759Z",
     "iopub.status.idle": "2022-03-23T10:41:36.150073Z",
     "shell.execute_reply": "2022-03-23T10:41:36.149325Z",
     "shell.execute_reply.started": "2022-03-23T10:41:35.855982Z"
    },
    "jupyter": {
     "outputs_hidden": false
    }
   },
   "outputs": [],
   "source": [
    "final_list = [result_lists[i] if i<len(result_lists) else '0110065001 0110065001 0699080001 0838055001 0351484027 0351484033 0458543009 0715303001 0759871001 0566140001 0351484026 0399223029' for i in range(len(submission))]"
   ]
  },
  {
   "cell_type": "code",
   "execution_count": 47,
   "metadata": {
    "_cell_guid": "094658fb-2c93-4697-b77c-ea24c664fe6f",
    "_uuid": "a8c9cbc2-7cc2-41ff-ac61-b299231b77b4",
    "execution": {
     "iopub.execute_input": "2022-03-23T10:41:40.896383Z",
     "iopub.status.busy": "2022-03-23T10:41:40.895987Z",
     "iopub.status.idle": "2022-03-23T10:41:41.135539Z",
     "shell.execute_reply": "2022-03-23T10:41:41.134864Z",
     "shell.execute_reply.started": "2022-03-23T10:41:40.896347Z"
    },
    "jupyter": {
     "outputs_hidden": false
    }
   },
   "outputs": [],
   "source": [
    "submission['customer_id'] = users_sub['customer_id']\n",
    "submission['prediction'] = final_list\n",
    "submission"
   ]
  },
  {
   "cell_type": "code",
   "execution_count": 49,
   "metadata": {
    "_cell_guid": "3ea3f36f-0885-450f-acee-4f4347d74b92",
    "_uuid": "b3485e2f-c969-47d6-a2b8-0beb00b5a0d6",
    "execution": {
     "iopub.execute_input": "2022-03-23T10:42:49.680020Z",
     "iopub.status.busy": "2022-03-23T10:42:49.679766Z",
     "iopub.status.idle": "2022-03-23T10:43:00.684087Z",
     "shell.execute_reply": "2022-03-23T10:43:00.683266Z",
     "shell.execute_reply.started": "2022-03-23T10:42:49.679992Z"
    },
    "jupyter": {
     "outputs_hidden": false
    }
   },
   "outputs": [],
   "source": [
    "submission.to_csv('prediction_3month.csv', index=False)"
   ]
  },
  {
   "cell_type": "markdown",
   "metadata": {},
   "source": [
    "<a href=\"./prediction_3month.csv\"> Download File </a>"
   ]
  }
 ],
 "metadata": {
  "kernelspec": {
   "display_name": "Python 3 (ipykernel)",
   "language": "python",
   "name": "python3"
  },
  "language_info": {
   "codemirror_mode": {
    "name": "ipython",
    "version": 3
   },
   "file_extension": ".py",
   "mimetype": "text/x-python",
   "name": "python",
   "nbconvert_exporter": "python",
   "pygments_lexer": "ipython3",
   "version": "3.9.10"
  }
 },
 "nbformat": 4,
 "nbformat_minor": 4
}
